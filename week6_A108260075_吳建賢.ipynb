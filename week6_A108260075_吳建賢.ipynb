{
  "nbformat": 4,
  "nbformat_minor": 0,
  "metadata": {
    "colab": {
      "name": "week6-A108260075-吳建賢.ipynb",
      "provenance": [],
      "include_colab_link": true
    },
    "kernelspec": {
      "name": "python3",
      "display_name": "Python 3"
    }
  },
  "cells": [
    {
      "cell_type": "markdown",
      "metadata": {
        "id": "view-in-github",
        "colab_type": "text"
      },
      "source": [
        "<a href=\"https://colab.research.google.com/github/city0422/Computational-Thinking-and-Programming-Design/blob/master/week6_A108260075_%E5%90%B3%E5%BB%BA%E8%B3%A2.ipynb\" target=\"_parent\"><img src=\"https://colab.research.google.com/assets/colab-badge.svg\" alt=\"Open In Colab\"/></a>"
      ]
    },
    {
      "cell_type": "code",
      "metadata": {
        "id": "UCPQ-jbBKhDz",
        "colab_type": "code",
        "colab": {
          "base_uri": "https://localhost:8080/",
          "height": 119
        },
        "outputId": "d36fc006-377c-48c2-f564-21fe6d60da8a"
      },
      "source": [
        "name = input('請問貴姓大名？')\n",
        "print('你好，', name)\n",
        "y = int(input('請問年紀？'))\n",
        "print('原來你', y,'歲')\n",
        "w = float(input('請問體重？'))\n",
        "print('體重為', w)\n"
      ],
      "execution_count": 1,
      "outputs": [
        {
          "output_type": "stream",
          "text": [
            "請問貴姓大名？吳建賢\n",
            "你好， 吳建賢\n",
            "請問年紀？19\n",
            "原來你 19 歲\n",
            "請問體重？70\n",
            "體重為 70.0\n"
          ],
          "name": "stdout"
        }
      ]
    },
    {
      "cell_type": "code",
      "metadata": {
        "id": "gv7vdwuvLqDS",
        "colab_type": "code",
        "colab": {
          "base_uri": "https://localhost:8080/",
          "height": 85
        },
        "outputId": "c1c03e04-e361-4de0-f125-456f55d6eb2f"
      },
      "source": [
        "上衣 = int(input('請輸入上衣數量？'))\n",
        "褲子 = int(input('請輸入褲子數量？'))\n",
        "背心 = int(input('請輸入背心數量？'))\n",
        "總金額 = 上衣*300 + 褲子*350 + 背心*400\n",
        "print('訂購服裝的總金額為', 總金額)\n"
      ],
      "execution_count": 3,
      "outputs": [
        {
          "output_type": "stream",
          "text": [
            "請輸入上衣數量？20\n",
            "請輸入褲子數量？30\n",
            "請輸入背心數量？40\n",
            "訂購服裝的總金額為 32500\n"
          ],
          "name": "stdout"
        }
      ]
    },
    {
      "cell_type": "code",
      "metadata": {
        "id": "OwA1eC2aLwJ1",
        "colab_type": "code",
        "colab": {
          "base_uri": "https://localhost:8080/",
          "height": 51
        },
        "outputId": "7a350218-c688-4236-9bee-9ba35c087d4c"
      },
      "source": [
        "半徑 = float(input('請輸入半徑？'))\n",
        "PI = 3.14159\n",
        "圓周長 = 2 * PI * 半徑\n",
        "圓面積 = 半徑 * 半徑 * PI\n",
        "print('圓周長為', 圓周長, '圓面積為', 圓面積)\n"
      ],
      "execution_count": 4,
      "outputs": [
        {
          "output_type": "stream",
          "text": [
            "請輸入半徑？5\n",
            "圓周長為 31.4159 圓面積為 78.53975\n"
          ],
          "name": "stdout"
        }
      ]
    },
    {
      "cell_type": "code",
      "metadata": {
        "id": "OKYbnEcAL4Ni",
        "colab_type": "code",
        "colab": {
          "base_uri": "https://localhost:8080/",
          "height": 51
        },
        "outputId": "ac65813a-38c4-4058-805b-9f93716a7c43"
      },
      "source": [
        "c = float(input('請輸入攝氏溫度？'))\n",
        "f = c * 9 / 5 +32\n",
        "print('華氏溫度為', f)\n"
      ],
      "execution_count": 5,
      "outputs": [
        {
          "output_type": "stream",
          "text": [
            "請輸入攝氏溫度？55\n",
            "華氏溫度為 131.0\n"
          ],
          "name": "stdout"
        }
      ]
    },
    {
      "cell_type": "code",
      "metadata": {
        "id": "iphIUHYeMC10",
        "colab_type": "code",
        "colab": {
          "base_uri": "https://localhost:8080/",
          "height": 102
        },
        "outputId": "abdead24-7e80-4b1d-e4e2-a14b5939970b"
      },
      "source": [
        "money = int(input('請輸入本金？'))\n",
        "interest = float(input('請輸入年利率(%)？'))\n",
        "y1 = money * (1 + interest/100)\n",
        "y2 = money * ((1 + interest/100) ** 2)\n",
        "y3 = money * ((1 + interest/100) ** 3)\n",
        "print('第一年本利和為', y1)\n",
        "print('第二年本利和為', y2)\n",
        "print('第三年本利和為', y3)\n"
      ],
      "execution_count": 6,
      "outputs": [
        {
          "output_type": "stream",
          "text": [
            "請輸入本金？1000\n",
            "請輸入年利率(%)？10\n",
            "第一年本利和為 1100.0\n",
            "第二年本利和為 1210.0000000000002\n",
            "第三年本利和為 1331.0000000000005\n"
          ],
          "name": "stdout"
        }
      ]
    },
    {
      "cell_type": "code",
      "metadata": {
        "id": "4_W65QltMKCh",
        "colab_type": "code",
        "colab": {
          "base_uri": "https://localhost:8080/",
          "height": 51
        },
        "outputId": "1d4a8a98-522d-4fe8-e0d6-68d94d736ca6"
      },
      "source": [
        "s = input('請輸入一個字串？')\n",
        "print('迴文判斷結果為', s == s[::-1])\n"
      ],
      "execution_count": 7,
      "outputs": [
        {
          "output_type": "stream",
          "text": [
            "請輸入一個字串？abcdefggfedcba\n",
            "迴文判斷結果為 True\n"
          ],
          "name": "stdout"
        }
      ]
    },
    {
      "cell_type": "code",
      "metadata": {
        "id": "4KLoqaqRMSOO",
        "colab_type": "code",
        "colab": {
          "base_uri": "https://localhost:8080/",
          "height": 85
        },
        "outputId": "bfecf70b-68c1-4a02-dda9-e7c672e6c865"
      },
      "source": [
        "minutes_to_convert = 123\n",
        "hours_decimal = minutes_to_convert/60\n",
        "hours_part = int(hours_decimal)\n",
        "minutes_decimal = hours_decimal-hours_part\n",
        "minutes_part = round(minutes_decimal*60)\n",
        "print(\"Hours\")\n",
        "print(hours_part)\n",
        "print(\"Minutes\")\n",
        "print(minutes_part)\n"
      ],
      "execution_count": 8,
      "outputs": [
        {
          "output_type": "stream",
          "text": [
            "Hours\n",
            "2\n",
            "Minutes\n",
            "3\n"
          ],
          "name": "stdout"
        }
      ]
    },
    {
      "cell_type": "code",
      "metadata": {
        "id": "fLSCfrCzMiOW",
        "colab_type": "code",
        "colab": {
          "base_uri": "https://localhost:8080/",
          "height": 102
        },
        "outputId": "adb7f4b2-4f1c-46cb-8541-44e8c284e81f"
      },
      "source": [
        "第一次期中考試成績= int(input('請輸入第一次期中考試成績？'))\n",
        "第二次期中考試成績= int(input('請輸入第二次期中考試成績？'))\n",
        "期末考試成績= int(input('請輸入期末考試成績？'))\n",
        "總分 = 第一次期中考試成績 + 第二次期中考試成績 + 期末考試成績\n",
        "print('總成績為', 總分)\n",
        "平均=(總分/3)\n",
        "print(\"平均為\",平均)\n",
        "\n",
        "\n",
        "\n"
      ],
      "execution_count": 13,
      "outputs": [
        {
          "output_type": "stream",
          "text": [
            "請輸入第一次期中考試成績？75\n",
            "請輸入第二次期中考試成績？80\n",
            "請輸入期末考試成績？65\n",
            "總成績為 220\n",
            "平均為 73.33333333333333\n"
          ],
          "name": "stdout"
        }
      ]
    },
    {
      "cell_type": "code",
      "metadata": {
        "id": "hSphEbfib482",
        "colab_type": "code",
        "colab": {
          "base_uri": "https://localhost:8080/",
          "height": 68
        },
        "outputId": "b4ff864e-bb4a-4d8a-d8a9-8c4ee3cfa93d"
      },
      "source": [
        "c=float(input(\"請輸入幾尺\"))\n",
        "c=float(input('請輸入幾吋'))\n",
        "f=(5*12+8)*2.54\n",
        "print(\"轉換成\",f)"
      ],
      "execution_count": 14,
      "outputs": [
        {
          "output_type": "stream",
          "text": [
            "請輸入幾尺5\n",
            "請輸入幾吋8\n",
            "轉換成 172.72\n"
          ],
          "name": "stdout"
        }
      ]
    },
    {
      "cell_type": "code",
      "metadata": {
        "id": "_T8-wUXJc50-",
        "colab_type": "code",
        "colab": {
          "base_uri": "https://localhost:8080/",
          "height": 51
        },
        "outputId": "cdff8f8f-337e-4bac-f193-7c3a958f367d"
      },
      "source": [
        "\n",
        "s=int(input(\"請輸入座號?\"))\n",
        "a=s/5\n",
        "組別=int(a+1)\n",
        "print(\"組別為\",組別)\n"
      ],
      "execution_count": 18,
      "outputs": [
        {
          "output_type": "stream",
          "text": [
            "請輸入座號?19\n",
            "組別為 4\n"
          ],
          "name": "stdout"
        }
      ]
    },
    {
      "cell_type": "code",
      "metadata": {
        "id": "kQ3MxZ_Qc9hO",
        "colab_type": "code",
        "colab": {
          "base_uri": "https://localhost:8080/",
          "height": 51
        },
        "outputId": "2e6e65bf-15c0-4b1e-9915-744284a6c875"
      },
      "source": [
        "飲料數量=int(input(\"輸入購買的飲料罐數?\"))\n",
        "飲料一打=int(飲料數量/12)\n",
        "飲料個數=int(飲料數量-飲料一打*12)\n",
        "一打價格=飲料一打*200\n",
        "個數價格=飲料個數*20\n",
        "總價=一打價格+個數價格\n",
        "print('需花費',總價)"
      ],
      "execution_count": 16,
      "outputs": [
        {
          "output_type": "stream",
          "text": [
            "輸入購買的飲料罐數?30\n",
            "需花費 520\n"
          ],
          "name": "stdout"
        }
      ]
    },
    {
      "cell_type": "code",
      "metadata": {
        "id": "E1XrP3vjeq4C",
        "colab_type": "code",
        "colab": {}
      },
      "source": [
        ""
      ],
      "execution_count": 0,
      "outputs": []
    }
  ]
}