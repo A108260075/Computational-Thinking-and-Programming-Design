{
  "nbformat": 4,
  "nbformat_minor": 0,
  "metadata": {
    "colab": {
      "name": "week16-A108260075-吳建賢.ipynb",
      "provenance": [],
      "collapsed_sections": [],
      "include_colab_link": true
    },
    "kernelspec": {
      "name": "python3",
      "display_name": "Python 3"
    }
  },
  "cells": [
    {
      "cell_type": "markdown",
      "metadata": {
        "id": "view-in-github",
        "colab_type": "text"
      },
      "source": [
        "<a href=\"https://colab.research.google.com/github/city0422/Computational-Thinking-and-Programming-Design/blob/master/week16_A108260075_%E5%90%B3%E5%BB%BA%E8%B3%A2.ipynb\" target=\"_parent\"><img src=\"https://colab.research.google.com/assets/colab-badge.svg\" alt=\"Open In Colab\"/></a>"
      ]
    },
    {
      "cell_type": "code",
      "metadata": {
        "id": "dh2TCOs6oLRM",
        "colab_type": "code",
        "colab": {
          "base_uri": "https://localhost:8080/",
          "height": 85
        },
        "outputId": "ae9f4f46-d455-4bff-8fec-3a6e6d14641b"
      },
      "source": [
        "i=1\n",
        "while(i<7):\n",
        "    print(i)\n",
        "    if i ==4:\n",
        "        break\n",
        "    i+=1"
      ],
      "execution_count": 3,
      "outputs": [
        {
          "output_type": "stream",
          "text": [
            "1\n",
            "2\n",
            "3\n",
            "4\n"
          ],
          "name": "stdout"
        }
      ]
    },
    {
      "cell_type": "code",
      "metadata": {
        "id": "GF5fTKYBsit0",
        "colab_type": "code",
        "colab": {
          "base_uri": "https://localhost:8080/",
          "height": 102
        },
        "outputId": "e26d426f-ac8c-4190-f022-deeb9e2b991d"
      },
      "source": [
        "i=0\n",
        "while True:\n",
        "    print(i)\n",
        "    if i==4:\n",
        "      break\n",
        "    i=i+1\n",
        "     "
      ],
      "execution_count": 6,
      "outputs": [
        {
          "output_type": "stream",
          "text": [
            "0\n",
            "1\n",
            "2\n",
            "3\n",
            "4\n"
          ],
          "name": "stdout"
        }
      ]
    },
    {
      "cell_type": "code",
      "metadata": {
        "id": "mz2Ndmy8t-OM",
        "colab_type": "code",
        "colab": {
          "base_uri": "https://localhost:8080/",
          "height": 170
        },
        "outputId": "dda1c5d3-b1eb-44ef-d074-93644d8ff69b"
      },
      "source": [
        "while True:\n",
        "  acc=input(\"請輸入帳號\")\n",
        "  pwd=input('請輸入密碼')\n",
        "  if(acc=='abc' and pwd=='123'):\n",
        "     print('帳號與密碼正確')\n",
        "     break\n",
        "  else:\n",
        "     print('登入失敗')\n",
        "\n"
      ],
      "execution_count": 10,
      "outputs": [
        {
          "output_type": "stream",
          "text": [
            "請輸入帳號123\n",
            "請輸入密碼123\n",
            "登入失敗\n",
            "請輸入帳號ABC\n",
            "請輸入密碼123\n",
            "登入失敗\n",
            "請輸入帳號abc\n",
            "請輸入密碼123\n",
            "帳號與密碼正確\n"
          ],
          "name": "stdout"
        }
      ]
    },
    {
      "cell_type": "markdown",
      "metadata": {
        "id": "OygVlLd2w4q9",
        "colab_type": "text"
      },
      "source": [
        ""
      ]
    },
    {
      "cell_type": "code",
      "metadata": {
        "id": "q-E9ns77v_Ar",
        "colab_type": "code",
        "colab": {
          "base_uri": "https://localhost:8080/",
          "height": 51
        },
        "outputId": "01587466-ebc6-4378-fb09-e8c2bb26a4c8"
      },
      "source": [
        "answer='b246'\n",
        "\n",
        "while True:\n",
        "   password=input(\"enter your password?\")\n",
        "   if password==answer:\n",
        "       print(\"enter the system\")\n",
        "       break\n",
        "   else:\n",
        "      print('try again')"
      ],
      "execution_count": 11,
      "outputs": [
        {
          "output_type": "stream",
          "text": [
            "enter your password?b246\n",
            "enter the system\n"
          ],
          "name": "stdout"
        }
      ]
    },
    {
      "cell_type": "code",
      "metadata": {
        "id": "9YyMyG2pxtKU",
        "colab_type": "code",
        "colab": {
          "base_uri": "https://localhost:8080/",
          "height": 51
        },
        "outputId": "a5e6c583-905d-43dd-c8cb-b9877556df2a"
      },
      "source": [
        "password = \"a108260075\"\n",
        "times = 0\n",
        "while times <= 3:\n",
        "    answer = input(\"Enter Your Password: \") \n",
        "    if answer == password: \n",
        "       print(\"登入成功\")\n",
        "       break \n",
        "    else:\n",
        "     times = times + 1\n",
        "     chance = 3 - times\n",
        "     print(\"密碼錯誤！還有\", chance, \"次機會\")\n"
      ],
      "execution_count": 16,
      "outputs": [
        {
          "output_type": "stream",
          "text": [
            "Enter Your Password: a108260075\n",
            "登入成功\n"
          ],
          "name": "stdout"
        }
      ]
    },
    {
      "cell_type": "code",
      "metadata": {
        "id": "TdLALZiA0aFd",
        "colab_type": "code",
        "colab": {
          "base_uri": "https://localhost:8080/",
          "height": 34
        },
        "outputId": "31c55caa-22f6-4236-8836-1cbe944181d5"
      },
      "source": [
        "#range 為python的內建函數 表示清單(串列)產生器\n",
        "\n",
        "range(5) #[0,1,2,3,4]\n",
        "range(3) #[0,1,2]\n",
        "range(8,10) #[8,9]\n",
        "range(2,5) #[2,3,4]\n",
        "\n",
        "range(2,10,3) #[2,5,8]\n",
        "range(3,8,2) #[3,5,7]\n",
        "range(10,3,-2) #[10,8,6,4]\n",
        "\n",
        "#range通常的起始值是0, 階梯值是1，結尾不包括結束值、是到結束值的前⼀個。"
      ],
      "execution_count": 21,
      "outputs": [
        {
          "output_type": "execute_result",
          "data": {
            "text/plain": [
              "range(10, 3, -2)"
            ]
          },
          "metadata": {
            "tags": []
          },
          "execution_count": 21
        }
      ]
    },
    {
      "cell_type": "code",
      "metadata": {
        "id": "ufQ5DT2l2wIS",
        "colab_type": "code",
        "colab": {
          "base_uri": "https://localhost:8080/",
          "height": 204
        },
        "outputId": "d5cc546c-e1b8-488e-de61-d3674eb40eac"
      },
      "source": [
        "# for 迴圈\n",
        "for i in range(5): #range和for技術迴圈搭配\n",
        "    print(i)\n",
        "for i in range(2,5):\n",
        "    print(i)\n",
        "for i in range(2,10,3):\n",
        "    print(i)"
      ],
      "execution_count": 20,
      "outputs": [
        {
          "output_type": "stream",
          "text": [
            "0\n",
            "1\n",
            "2\n",
            "3\n",
            "4\n",
            "2\n",
            "3\n",
            "4\n",
            "2\n",
            "5\n",
            "8\n"
          ],
          "name": "stdout"
        }
      ]
    },
    {
      "cell_type": "code",
      "metadata": {
        "id": "057JEvNv4qAi",
        "colab_type": "code",
        "colab": {
          "base_uri": "https://localhost:8080/",
          "height": 1000
        },
        "outputId": "0ef0e6b7-28b5-4ae1-f21a-96c15ecfbbd8"
      },
      "source": [
        "#range通常和for迴圈搭配, for i in range\n",
        "for i in range(5):\n",
        " print(i)\n",
        "for i in range(3):\n",
        " print(\"hi\")\n",
        "import random\n",
        "for i in range(10):\n",
        " r = random.randint(1,100)\n",
        " print(r)\n",
        "for i in range(100):\n",
        " r = random.randint(1,1000)\n",
        " print(\"第\", i, \"個隨機變數的值是\", r)\n",
        "t = 0\n",
        "for i in range(100):\n",
        " t += 50\n",
        " print(\"第\", i, \"個數是\", t )"
      ],
      "execution_count": 22,
      "outputs": [
        {
          "output_type": "stream",
          "text": [
            "0\n",
            "1\n",
            "2\n",
            "3\n",
            "4\n",
            "hi\n",
            "hi\n",
            "hi\n",
            "10\n",
            "86\n",
            "30\n",
            "55\n",
            "36\n",
            "78\n",
            "97\n",
            "21\n",
            "63\n",
            "46\n",
            "第 0 個隨機變數的值是 625\n",
            "第 1 個隨機變數的值是 382\n",
            "第 2 個隨機變數的值是 9\n",
            "第 3 個隨機變數的值是 853\n",
            "第 4 個隨機變數的值是 163\n",
            "第 5 個隨機變數的值是 700\n",
            "第 6 個隨機變數的值是 397\n",
            "第 7 個隨機變數的值是 992\n",
            "第 8 個隨機變數的值是 877\n",
            "第 9 個隨機變數的值是 528\n",
            "第 10 個隨機變數的值是 676\n",
            "第 11 個隨機變數的值是 967\n",
            "第 12 個隨機變數的值是 776\n",
            "第 13 個隨機變數的值是 918\n",
            "第 14 個隨機變數的值是 970\n",
            "第 15 個隨機變數的值是 312\n",
            "第 16 個隨機變數的值是 788\n",
            "第 17 個隨機變數的值是 415\n",
            "第 18 個隨機變數的值是 440\n",
            "第 19 個隨機變數的值是 811\n",
            "第 20 個隨機變數的值是 3\n",
            "第 21 個隨機變數的值是 788\n",
            "第 22 個隨機變數的值是 212\n",
            "第 23 個隨機變數的值是 495\n",
            "第 24 個隨機變數的值是 558\n",
            "第 25 個隨機變數的值是 768\n",
            "第 26 個隨機變數的值是 552\n",
            "第 27 個隨機變數的值是 674\n",
            "第 28 個隨機變數的值是 364\n",
            "第 29 個隨機變數的值是 66\n",
            "第 30 個隨機變數的值是 234\n",
            "第 31 個隨機變數的值是 739\n",
            "第 32 個隨機變數的值是 410\n",
            "第 33 個隨機變數的值是 510\n",
            "第 34 個隨機變數的值是 245\n",
            "第 35 個隨機變數的值是 339\n",
            "第 36 個隨機變數的值是 307\n",
            "第 37 個隨機變數的值是 737\n",
            "第 38 個隨機變數的值是 594\n",
            "第 39 個隨機變數的值是 789\n",
            "第 40 個隨機變數的值是 675\n",
            "第 41 個隨機變數的值是 681\n",
            "第 42 個隨機變數的值是 991\n",
            "第 43 個隨機變數的值是 894\n",
            "第 44 個隨機變數的值是 553\n",
            "第 45 個隨機變數的值是 974\n",
            "第 46 個隨機變數的值是 266\n",
            "第 47 個隨機變數的值是 578\n",
            "第 48 個隨機變數的值是 919\n",
            "第 49 個隨機變數的值是 305\n",
            "第 50 個隨機變數的值是 45\n",
            "第 51 個隨機變數的值是 188\n",
            "第 52 個隨機變數的值是 331\n",
            "第 53 個隨機變數的值是 989\n",
            "第 54 個隨機變數的值是 780\n",
            "第 55 個隨機變數的值是 637\n",
            "第 56 個隨機變數的值是 786\n",
            "第 57 個隨機變數的值是 478\n",
            "第 58 個隨機變數的值是 34\n",
            "第 59 個隨機變數的值是 106\n",
            "第 60 個隨機變數的值是 882\n",
            "第 61 個隨機變數的值是 849\n",
            "第 62 個隨機變數的值是 546\n",
            "第 63 個隨機變數的值是 889\n",
            "第 64 個隨機變數的值是 854\n",
            "第 65 個隨機變數的值是 935\n",
            "第 66 個隨機變數的值是 966\n",
            "第 67 個隨機變數的值是 105\n",
            "第 68 個隨機變數的值是 909\n",
            "第 69 個隨機變數的值是 778\n",
            "第 70 個隨機變數的值是 309\n",
            "第 71 個隨機變數的值是 240\n",
            "第 72 個隨機變數的值是 138\n",
            "第 73 個隨機變數的值是 369\n",
            "第 74 個隨機變數的值是 980\n",
            "第 75 個隨機變數的值是 754\n",
            "第 76 個隨機變數的值是 289\n",
            "第 77 個隨機變數的值是 655\n",
            "第 78 個隨機變數的值是 9\n",
            "第 79 個隨機變數的值是 539\n",
            "第 80 個隨機變數的值是 930\n",
            "第 81 個隨機變數的值是 280\n",
            "第 82 個隨機變數的值是 614\n",
            "第 83 個隨機變數的值是 189\n",
            "第 84 個隨機變數的值是 559\n",
            "第 85 個隨機變數的值是 581\n",
            "第 86 個隨機變數的值是 503\n",
            "第 87 個隨機變數的值是 121\n",
            "第 88 個隨機變數的值是 237\n",
            "第 89 個隨機變數的值是 229\n",
            "第 90 個隨機變數的值是 262\n",
            "第 91 個隨機變數的值是 837\n",
            "第 92 個隨機變數的值是 961\n",
            "第 93 個隨機變數的值是 97\n",
            "第 94 個隨機變數的值是 298\n",
            "第 95 個隨機變數的值是 639\n",
            "第 96 個隨機變數的值是 710\n",
            "第 97 個隨機變數的值是 748\n",
            "第 98 個隨機變數的值是 815\n",
            "第 99 個隨機變數的值是 707\n",
            "第 0 個數是 50\n",
            "第 1 個數是 100\n",
            "第 2 個數是 150\n",
            "第 3 個數是 200\n",
            "第 4 個數是 250\n",
            "第 5 個數是 300\n",
            "第 6 個數是 350\n",
            "第 7 個數是 400\n",
            "第 8 個數是 450\n",
            "第 9 個數是 500\n",
            "第 10 個數是 550\n",
            "第 11 個數是 600\n",
            "第 12 個數是 650\n",
            "第 13 個數是 700\n",
            "第 14 個數是 750\n",
            "第 15 個數是 800\n",
            "第 16 個數是 850\n",
            "第 17 個數是 900\n",
            "第 18 個數是 950\n",
            "第 19 個數是 1000\n",
            "第 20 個數是 1050\n",
            "第 21 個數是 1100\n",
            "第 22 個數是 1150\n",
            "第 23 個數是 1200\n",
            "第 24 個數是 1250\n",
            "第 25 個數是 1300\n",
            "第 26 個數是 1350\n",
            "第 27 個數是 1400\n",
            "第 28 個數是 1450\n",
            "第 29 個數是 1500\n",
            "第 30 個數是 1550\n",
            "第 31 個數是 1600\n",
            "第 32 個數是 1650\n",
            "第 33 個數是 1700\n",
            "第 34 個數是 1750\n",
            "第 35 個數是 1800\n",
            "第 36 個數是 1850\n",
            "第 37 個數是 1900\n",
            "第 38 個數是 1950\n",
            "第 39 個數是 2000\n",
            "第 40 個數是 2050\n",
            "第 41 個數是 2100\n",
            "第 42 個數是 2150\n",
            "第 43 個數是 2200\n",
            "第 44 個數是 2250\n",
            "第 45 個數是 2300\n",
            "第 46 個數是 2350\n",
            "第 47 個數是 2400\n",
            "第 48 個數是 2450\n",
            "第 49 個數是 2500\n",
            "第 50 個數是 2550\n",
            "第 51 個數是 2600\n",
            "第 52 個數是 2650\n",
            "第 53 個數是 2700\n",
            "第 54 個數是 2750\n",
            "第 55 個數是 2800\n",
            "第 56 個數是 2850\n",
            "第 57 個數是 2900\n",
            "第 58 個數是 2950\n",
            "第 59 個數是 3000\n",
            "第 60 個數是 3050\n",
            "第 61 個數是 3100\n",
            "第 62 個數是 3150\n",
            "第 63 個數是 3200\n",
            "第 64 個數是 3250\n",
            "第 65 個數是 3300\n",
            "第 66 個數是 3350\n",
            "第 67 個數是 3400\n",
            "第 68 個數是 3450\n",
            "第 69 個數是 3500\n",
            "第 70 個數是 3550\n",
            "第 71 個數是 3600\n",
            "第 72 個數是 3650\n",
            "第 73 個數是 3700\n",
            "第 74 個數是 3750\n",
            "第 75 個數是 3800\n",
            "第 76 個數是 3850\n",
            "第 77 個數是 3900\n",
            "第 78 個數是 3950\n",
            "第 79 個數是 4000\n",
            "第 80 個數是 4050\n",
            "第 81 個數是 4100\n",
            "第 82 個數是 4150\n",
            "第 83 個數是 4200\n",
            "第 84 個數是 4250\n",
            "第 85 個數是 4300\n",
            "第 86 個數是 4350\n",
            "第 87 個數是 4400\n",
            "第 88 個數是 4450\n",
            "第 89 個數是 4500\n",
            "第 90 個數是 4550\n",
            "第 91 個數是 4600\n",
            "第 92 個數是 4650\n",
            "第 93 個數是 4700\n",
            "第 94 個數是 4750\n",
            "第 95 個數是 4800\n",
            "第 96 個數是 4850\n",
            "第 97 個數是 4900\n",
            "第 98 個數是 4950\n",
            "第 99 個數是 5000\n"
          ],
          "name": "stdout"
        }
      ]
    },
    {
      "cell_type": "code",
      "metadata": {
        "id": "3dTZVJoi5GnC",
        "colab_type": "code",
        "colab": {
          "base_uri": "https://localhost:8080/",
          "height": 187
        },
        "outputId": "00b996b4-e92d-4409-b884-542645039cee"
      },
      "source": [
        "#3+6+9+12=?\n",
        "#for loop\n",
        "s = int(input('請輸入加總開始值？'))\n",
        "e = int(input('請輸入加總終⽌值？'))\n",
        "inc = int(input('請輸入遞增減值？'))\n",
        "sum = 0  #初始值\n",
        "\n",
        "for i in range(s, e, inc):  #range(3,13,3)=>[3,6,9,12]\n",
        "\n",
        "    sum = sum + i  #加總\n",
        "    print('i為', i, '加總結果為', sum)"
      ],
      "execution_count": 29,
      "outputs": [
        {
          "output_type": "stream",
          "text": [
            "請輸入加總開始值？2\n",
            "請輸入加總終⽌值？23\n",
            "請輸入遞增減值？3\n",
            "i為 2 加總結果為 2\n",
            "i為 5 加總結果為 7\n",
            "i為 8 加總結果為 15\n",
            "i為 11 加總結果為 26\n",
            "i為 14 加總結果為 40\n",
            "i為 17 加總結果為 57\n",
            "i為 20 加總結果為 77\n"
          ],
          "name": "stdout"
        }
      ]
    }
  ]
}