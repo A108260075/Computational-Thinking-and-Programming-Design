{
  "nbformat": 4,
  "nbformat_minor": 0,
  "metadata": {
    "colab": {
      "name": "week10_A108260075_吳建賢.ipynb",
      "provenance": [],
      "collapsed_sections": [],
      "include_colab_link": true
    },
    "kernelspec": {
      "name": "python3",
      "display_name": "Python 3"
    }
  },
  "cells": [
    {
      "cell_type": "markdown",
      "metadata": {
        "id": "view-in-github",
        "colab_type": "text"
      },
      "source": [
        "<a href=\"https://colab.research.google.com/github/city0422/Computational-Thinking-and-Programming-Design/blob/master/week10_A108260075_%E5%90%B3%E5%BB%BA%E8%B3%A2.ipynb\" target=\"_parent\"><img src=\"https://colab.research.google.com/assets/colab-badge.svg\" alt=\"Open In Colab\"/></a>"
      ]
    },
    {
      "cell_type": "code",
      "metadata": {
        "id": "uEJIHY8GVR9W",
        "colab_type": "code",
        "colab": {
          "base_uri": "https://localhost:8080/",
          "height": 100
        },
        "outputId": "48f180e5-7967-47ab-b60a-1a0a274ba801"
      },
      "source": [
        "print(\"You are on a deserted island in a 2D world.\")\n",
        "print(\"Try to survive until rescue arrives!\")\n",
        "print(\"Available commands are in CAPITAL letters.\")\n",
        "print(\"Any other command exits the program\")\n",
        "print(\"First LOOK around...\") "
      ],
      "execution_count": 1,
      "outputs": [
        {
          "output_type": "stream",
          "text": [
            "You are on a deserted island in a 2D world.\n",
            "Try to survive until rescue arrives!\n",
            "Available commands are in CAPITAL letters.\n",
            "Any other command exits the program\n",
            "First LOOK around...\n"
          ],
          "name": "stdout"
        }
      ]
    },
    {
      "cell_type": "code",
      "metadata": {
        "id": "UX9G1D9JVoZy",
        "colab_type": "code",
        "colab": {
          "base_uri": "https://localhost:8080/",
          "height": 300
        },
        "outputId": "bb925111-fd3e-4ef2-9cfd-a01ec22a6a85"
      },
      "source": [
        "do = input(\":: \")\n",
        "if do == \"LOOK\": \n",
        "  print(\"You are stuck in a sand ditch.\") \n",
        "  print(\"Crawl out LEFT or RIGHT.\") \n",
        "do = input(\":: \")\n",
        "if do == \"LEFT\": \n",
        "  print(\"You see a STARFISH and a CRAB on the sand.\") \n",
        "  print(\"And you're hungry! Which do you eat?\")\n",
        "do = input(\":: \") \n",
        "if do == \"STARFISH\": \n",
        "  print(\"Oh no! You immediately don't feel well.\")\n",
        "  print(\"You do not survive :(\") \n",
        "elif do == \"CRAB\": \n",
        "  print(\"Raw crab should be fine, right? YES or NO.\") \n",
        "do = input(\":: \") \n",
        "if do == \"YES\":\n",
        "  print(\"Ok, You eat it raw. Fingers crossed.\")\n",
        "  print(\"Food in your belly helps you see a TREE.\") \n",
        "do = input(\":: \") \n",
        "if do == \"TREE\":\n",
        "  print(\"It's a coconut tree! And you're thirsty!\") \n",
        "  print(\"Do you drink the coconut water? YES or NO.\")\n",
        "do = input(\":: \")\n",
        "if do == \"YES\":\n",
        "  print(\"Oh boy. Coconut water and raw crab don't mix.\")\n",
        "  print(\"You do not survive :(\") \n",
        "elif do == \"NO\":\n",
        "  print(\"Good choice.\")\n",
        "  print(\"Look! It's a rescue plane! You made it! \\o/\") \n",
        "elif do == \"NO\":\n",
        "  print(\"Well, there's nothing else left to eat.\")\n",
        "  print(\"You do not survive :(\") \n",
        "elif do == \"RIGHT\": \n",
        "  print(\"No can do. That side is very slippery.\") \n",
        "  print(\"You fall very far into some weird cavern.\") \n",
        "  print(\"You do not survive :(\") \n",
        "else: \n",
        "  print(\"You can only do actions shown in capital letters.\") \n",
        "  print(\"Try again!\")"
      ],
      "execution_count": 19,
      "outputs": [
        {
          "output_type": "stream",
          "text": [
            ":: LOOK\n",
            "You are stuck in a sand ditch.\n",
            "Crawl out LEFT or RIGHT.\n",
            ":: LEFT\n",
            "You see a STARFISH and a CRAB on the sand.\n",
            "And you're hungry! Which do you eat?\n",
            ":: CRAB\n",
            "Raw crab should be fine, right? YES or NO.\n",
            ":: YES\n",
            "Ok, You eat it raw. Fingers crossed.\n",
            "Food in your belly helps you see a TREE.\n",
            ":: TREE\n",
            "It's a coconut tree! And you're thirsty!\n",
            "Do you drink the coconut water? YES or NO.\n",
            ":: YES\n",
            "Oh boy. Coconut water and raw crab don't mix.\n",
            "You do not survive :(\n"
          ],
          "name": "stdout"
        }
      ]
    },
    {
      "cell_type": "code",
      "metadata": {
        "id": "YkZ09zF3YnVR",
        "colab_type": "code",
        "colab": {
          "base_uri": "https://localhost:8080/",
          "height": 66
        },
        "outputId": "235ddb7e-9aee-4f49-8f56-1acdc69b7a1b"
      },
      "source": [
        "import random\n",
        "my = int(input(\"請出拳 [0] 剪⼑ [1] ⽯頭 [2] 布\"))\n",
        "print(\"我出拳為\", my)\n",
        "computer = random.randint(0, 2)\n",
        "print(\"電腦出拳為\", computer)"
      ],
      "execution_count": 20,
      "outputs": [
        {
          "output_type": "stream",
          "text": [
            "請出拳 [0] 剪⼑ [1] ⽯頭 [2] 布1\n",
            "我出拳為 1\n",
            "電腦出拳為 0\n"
          ],
          "name": "stdout"
        }
      ]
    },
    {
      "cell_type": "code",
      "metadata": {
        "id": "uoH1zyx2Yw-T",
        "colab_type": "code",
        "colab": {
          "base_uri": "https://localhost:8080/",
          "height": 33
        },
        "outputId": "64d45e0b-6d30-4491-9d58-b0b948154471"
      },
      "source": [
        "if my == 0:\n",
        "         if computer == 0:\n",
        "             print('平⼿')\n",
        "         elif computer == 1:\n",
        "             print('電腦獲勝')\n",
        "         else:\n",
        "             print('玩家獲勝')\n",
        "elif my == 1:\n",
        "        if computer == 0:\n",
        "            print('玩家獲勝')\n",
        "        elif computer == 1:\n",
        "            print('平⼿')\n",
        "        else:\n",
        "            print('電腦獲勝')\n",
        "else:\n",
        "        if computer == 1:\n",
        "            print('電腦獲勝')\n",
        "        elif computer == 2:\n",
        "            print('玩家獲勝')\n",
        "        else:\n",
        "            print('平⼿')"
      ],
      "execution_count": 34,
      "outputs": [
        {
          "output_type": "stream",
          "text": [
            "玩家獲勝\n"
          ],
          "name": "stdout"
        }
      ]
    },
    {
      "cell_type": "code",
      "metadata": {
        "id": "vls7bvWAaQR4",
        "colab_type": "code",
        "colab": {
          "base_uri": "https://localhost:8080/",
          "height": 66
        },
        "outputId": "351e3078-7109-4e23-ddcd-4453403fcf26"
      },
      "source": [
        "import random\n",
        "my_choice = int(input(\"請出拳 [0] 剪⼑ [1] ⽯頭 [2] 布\"))\n",
        "print(\"我出拳為\", my_choice)\n",
        "com_choice = random.randint(0, 2)\n",
        "print(\"電腦出拳為\", com_choice)"
      ],
      "execution_count": 35,
      "outputs": [
        {
          "output_type": "stream",
          "text": [
            "請出拳 [0] 剪⼑ [1] ⽯頭 [2] 布1\n",
            "我出拳為 1\n",
            "電腦出拳為 1\n"
          ],
          "name": "stdout"
        }
      ]
    },
    {
      "cell_type": "code",
      "metadata": {
        "id": "Cwk_lCEsafCH",
        "colab_type": "code",
        "colab": {
          "base_uri": "https://localhost:8080/",
          "height": 33
        },
        "outputId": "075d9c4d-e29f-42b2-febd-8ac5d9e40805"
      },
      "source": [
        "if my_choice == (com_choice + 1) % 3:\n",
        "    print(\"我贏了\")\n",
        "elif my_choice == com_choice:\n",
        "    print(\"平⼿\")\n",
        "else:\n",
        "    print(\"我輸了\")"
      ],
      "execution_count": 37,
      "outputs": [
        {
          "output_type": "stream",
          "text": [
            "平⼿\n"
          ],
          "name": "stdout"
        }
      ]
    },
    {
      "cell_type": "code",
      "metadata": {
        "id": "kyPMn5QBan2C",
        "colab_type": "code",
        "colab": {
          "base_uri": "https://localhost:8080/",
          "height": 66
        },
        "outputId": "c3aab8e5-4b8f-4ae3-c110-0b960b9d1d5b"
      },
      "source": [
        "import random\n",
        "my_choice = int(input(\"請出拳 [0] 蟲 [1] 雞 [2] 老虎 [3] 棒⼦\"))\n",
        "print(\"你出的拳:\", my_choice)\n",
        "com_choice = random.randint(0, 3)\n",
        "print(\"電腦出拳為\", com_choice)"
      ],
      "execution_count": 42,
      "outputs": [
        {
          "output_type": "stream",
          "text": [
            "請出拳 [0] 蟲 [1] 雞 [2] 老虎 [3] 棒⼦1\n",
            "你出的拳: 1\n",
            "電腦出拳為 2\n"
          ],
          "name": "stdout"
        }
      ]
    },
    {
      "cell_type": "code",
      "metadata": {
        "id": "jxr6o8_BaxHt",
        "colab_type": "code",
        "colab": {
          "base_uri": "https://localhost:8080/",
          "height": 33
        },
        "outputId": "33c81f15-ecd7-43af-e9d2-f99a71655a9c"
      },
      "source": [
        "if my_choice == (com_choice + 1) % 4:\n",
        "  print(\"我贏了\")\n",
        "elif com_choice == (my_choice + 1) % 4:\n",
        "  print(\"電腦贏了\")\n",
        "else:\n",
        "  print(\"平⼿\")"
      ],
      "execution_count": 44,
      "outputs": [
        {
          "output_type": "stream",
          "text": [
            "電腦贏了\n"
          ],
          "name": "stdout"
        }
      ]
    },
    {
      "cell_type": "code",
      "metadata": {
        "id": "lE7QYgCLdMip",
        "colab_type": "code",
        "colab": {
          "base_uri": "https://localhost:8080/",
          "height": 50
        },
        "outputId": "93a55ab8-828c-4f9d-bc15-946a81a59b94"
      },
      "source": [
        "score = eval(input('請輸入⼀個度數？'))\n",
        "if score >= 0.9:\n",
        "   print('正常')\n",
        "\n",
        "if score < 0.9:\n",
        "   print('近視')"
      ],
      "execution_count": 55,
      "outputs": [
        {
          "output_type": "stream",
          "text": [
            "請輸入⼀個度數？1.2\n",
            "正常\n"
          ],
          "name": "stdout"
        }
      ]
    },
    {
      "cell_type": "code",
      "metadata": {
        "id": "1LfIBO2wkWh-",
        "colab_type": "code",
        "colab": {
          "base_uri": "https://localhost:8080/",
          "height": 50
        },
        "outputId": "f865c31c-799d-4881-d4f4-0afc1a141bc4"
      },
      "source": [
        "\n",
        "year = int(input(\"輸入一個年份: \"))\n",
        "if (year % 4) == 0:\n",
        "   if (year % 100) == 0:\n",
        "       if (year % 400) == 0:\n",
        "           print(\"{0} 是閏年\".format(year))   \n",
        "       else:\n",
        "           print(\"{0} 不是閏年\".format(year))\n",
        "   else:\n",
        "       print(\"{0} 是閏年\".format(year))       \n",
        "else:\n",
        "   print(\"{0} 不是閏年\".format(year))"
      ],
      "execution_count": 57,
      "outputs": [
        {
          "output_type": "stream",
          "text": [
            "輸入一個年份: 2012\n",
            "2012 是閏年\n"
          ],
          "name": "stdout"
        }
      ]
    },
    {
      "cell_type": "code",
      "metadata": {
        "id": "Eo5ZQ6RZlsgY",
        "colab_type": "code",
        "colab": {
          "base_uri": "https://localhost:8080/",
          "height": 50
        },
        "outputId": "d22a48e0-ef43-4ef1-b7d7-d56ef661078c"
      },
      "source": [
        "體溫 = eval(input('請輸入體溫溫度？'))\n",
        "if 體溫 < 36:\n",
        "  print('體溫過低')\n",
        "if 36<=體溫<38:\n",
        "  print('體溫正常')\n",
        "if 38<=體溫<39:\n",
        "  print('體溫有點燒')\n",
        "if 體溫>39:\n",
        "  print('體溫過高')"
      ],
      "execution_count": 59,
      "outputs": [
        {
          "output_type": "stream",
          "text": [
            "請輸入體溫溫度？38.5\n",
            "體溫有點燒\n"
          ],
          "name": "stdout"
        }
      ]
    }
  ]
}