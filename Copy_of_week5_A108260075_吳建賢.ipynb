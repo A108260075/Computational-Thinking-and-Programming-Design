{
  "nbformat": 4,
  "nbformat_minor": 0,
  "metadata": {
    "colab": {
      "name": "Copy of week5-A108260075.吳建賢.ipynb",
      "provenance": [],
      "collapsed_sections": [],
      "include_colab_link": true
    },
    "kernelspec": {
      "name": "python3",
      "display_name": "Python 3"
    }
  },
  "cells": [
    {
      "cell_type": "markdown",
      "metadata": {
        "id": "view-in-github",
        "colab_type": "text"
      },
      "source": [
        "<a href=\"https://colab.research.google.com/github/city0422/Computational-Thinking-and-Programming-Design/blob/master/Copy_of_week5_A108260075_%E5%90%B3%E5%BB%BA%E8%B3%A2.ipynb\" target=\"_parent\"><img src=\"https://colab.research.google.com/assets/colab-badge.svg\" alt=\"Open In Colab\"/></a>"
      ]
    },
    {
      "cell_type": "code",
      "metadata": {
        "id": "r5zWfSp2Gcec",
        "colab_type": "code",
        "outputId": "22570881-545b-466d-f11c-62344a01efa4",
        "colab": {
          "base_uri": "https://localhost:8080/",
          "height": 34
        }
      },
      "source": [
        "a=1\n",
        "a"
      ],
      "execution_count": 0,
      "outputs": [
        {
          "output_type": "execute_result",
          "data": {
            "text/plain": [
              "1"
            ]
          },
          "metadata": {
            "tags": []
          },
          "execution_count": 4
        }
      ]
    },
    {
      "cell_type": "code",
      "metadata": {
        "id": "AW02GFvoN6FF",
        "colab_type": "code",
        "outputId": "b85fc191-fde6-4574-baf6-b2df6bb72813",
        "colab": {
          "base_uri": "https://localhost:8080/",
          "height": 34
        }
      },
      "source": [
        "a=\"python\"\n",
        "a"
      ],
      "execution_count": 0,
      "outputs": [
        {
          "output_type": "execute_result",
          "data": {
            "text/plain": [
              "'python'"
            ]
          },
          "metadata": {
            "tags": []
          },
          "execution_count": 6
        }
      ]
    },
    {
      "cell_type": "code",
      "metadata": {
        "id": "pI4xzob5OSwg",
        "colab_type": "code",
        "colab": {}
      },
      "source": [
        "a=123\n",
        "b=123.456\n",
        "c=\"python\"\n",
        "d=False"
      ],
      "execution_count": 0,
      "outputs": []
    },
    {
      "cell_type": "code",
      "metadata": {
        "id": "SEGbPOALPEcx",
        "colab_type": "code",
        "outputId": "9091ef53-e815-496f-ab8c-31a896c8b740",
        "colab": {
          "base_uri": "https://localhost:8080/",
          "height": 51
        }
      },
      "source": [
        "a=1\n",
        "print(a,id(a))\n",
        "b=\"python\"\n",
        "print(b,id(b))"
      ],
      "execution_count": 0,
      "outputs": [
        {
          "output_type": "stream",
          "text": [
            "1 10968800\n",
            "python 139678725814680\n"
          ],
          "name": "stdout"
        }
      ]
    },
    {
      "cell_type": "code",
      "metadata": {
        "id": "B1qqbkmXQsZv",
        "colab_type": "code",
        "outputId": "a4401360-f72d-4eb2-f483-d5e8ec575a53",
        "colab": {
          "base_uri": "https://localhost:8080/",
          "height": 34
        }
      },
      "source": [
        "x=1\n",
        "y=2\n",
        "print(id(x),id(y))"
      ],
      "execution_count": 0,
      "outputs": [
        {
          "output_type": "stream",
          "text": [
            "10968800 10968832\n"
          ],
          "name": "stdout"
        }
      ]
    },
    {
      "cell_type": "code",
      "metadata": {
        "id": "lOXMktpEQ-tW",
        "colab_type": "code",
        "outputId": "905ba4fc-bb16-4285-8fa9-abfbc1f403fb",
        "colab": {
          "base_uri": "https://localhost:8080/",
          "height": 34
        }
      },
      "source": [
        "z=1\n",
        "print(id(x),id(z))"
      ],
      "execution_count": 0,
      "outputs": [
        {
          "output_type": "stream",
          "text": [
            "10968800 10968800\n"
          ],
          "name": "stdout"
        }
      ]
    },
    {
      "cell_type": "code",
      "metadata": {
        "id": "f2pU4Ea9RWVz",
        "colab_type": "code",
        "outputId": "54ab838b-6e91-4e32-cc68-278a551ae1dd",
        "colab": {
          "base_uri": "https://localhost:8080/",
          "height": 34
        }
      },
      "source": [
        "import sys#引進模組使用模組中的指令\n",
        "\n",
        "x=18\n",
        "sys.getsizeof(x)"
      ],
      "execution_count": 0,
      "outputs": [
        {
          "output_type": "execute_result",
          "data": {
            "text/plain": [
              "28"
            ]
          },
          "metadata": {
            "tags": []
          },
          "execution_count": 17
        }
      ]
    },
    {
      "cell_type": "code",
      "metadata": {
        "id": "ua2CRXexSN-_",
        "colab_type": "code",
        "outputId": "4a1ddcf4-110d-4a2d-fa8a-b2c8a86e5f3d",
        "colab": {
          "base_uri": "https://localhost:8080/",
          "height": 204
        }
      },
      "source": [
        "\n",
        "print(False)\n",
        "print(True)\n",
        "print(False+3)\n",
        "print(True+3)\n",
        "print(False==0)\n",
        "print(True==1)\n",
        "\n",
        "print(False,type(False))\n",
        "print(True+1,type(True+1))\n",
        "\n",
        "print(bool(1))\n",
        "print(bool(0))\n",
        "print(bool(()))"
      ],
      "execution_count": 0,
      "outputs": [
        {
          "output_type": "stream",
          "text": [
            "False\n",
            "True\n",
            "3\n",
            "4\n",
            "True\n",
            "True\n",
            "False <class 'bool'>\n",
            "2 <class 'int'>\n",
            "True\n",
            "False\n",
            "False\n"
          ],
          "name": "stdout"
        }
      ]
    },
    {
      "cell_type": "code",
      "metadata": {
        "id": "3fqxgBSuVCfZ",
        "colab_type": "code",
        "outputId": "f8edff41-5921-4bfd-dc7f-1a9a35e6c633",
        "colab": {
          "base_uri": "https://localhost:8080/",
          "height": 102
        }
      },
      "source": [
        "a=100\n",
        "b=100.001\n",
        "print(type(100))\n",
        "print(type(100.001))\n",
        "print(int(100))\n",
        "print(float(100.001))\n",
        "print(0.1+0.1+0.1)"
      ],
      "execution_count": 0,
      "outputs": [
        {
          "output_type": "stream",
          "text": [
            "<class 'int'>\n",
            "<class 'float'>\n",
            "100\n",
            "100.001\n",
            "0.30000000000000004\n"
          ],
          "name": "stdout"
        }
      ]
    },
    {
      "cell_type": "code",
      "metadata": {
        "id": "Hb3YTO2-V5Tt",
        "colab_type": "code",
        "outputId": "6c7f63f7-b8a9-4d8d-852a-a54ccd9bafc1",
        "colab": {
          "base_uri": "https://localhost:8080/",
          "height": 153
        }
      },
      "source": [
        "s1 = '春眠不覺曉，處處聞啼⿃。'\n",
        "print(s1)\n",
        "s2 = \"夜來風雨聲，花落知多少。\"\n",
        "print(s2)\n",
        "s3 = '作者\"孟浩然\" 詩名\"春曉\"'\n",
        "print(s3)\n",
        "s4 = \"作者'孟浩然' 詩名'春曉'\"\n",
        "print(s4)\n",
        "s5 = ''' 春眠不覺曉，處處聞啼⿃。\n",
        "夜來風雨聲，花落知多少。\n",
        "作者\"孟浩然\" 詩名\"春曉\"\n",
        "'''\n",
        "print(s5)"
      ],
      "execution_count": 0,
      "outputs": [
        {
          "output_type": "stream",
          "text": [
            "春眠不覺曉，處處聞啼⿃。\n",
            "夜來風雨聲，花落知多少。\n",
            "作者\"孟浩然\" 詩名\"春曉\"\n",
            "作者'孟浩然' 詩名'春曉'\n",
            " 春眠不覺曉，處處聞啼⿃。\n",
            "夜來風雨聲，花落知多少。\n",
            "作者\"孟浩然\" 詩名\"春曉\"\n",
            "\n"
          ],
          "name": "stdout"
        }
      ]
    },
    {
      "cell_type": "code",
      "metadata": {
        "id": "pXnfNausWX6v",
        "colab_type": "code",
        "outputId": "1af9cdd7-b948-4c3b-9723-639241aa5ec0",
        "colab": {
          "base_uri": "https://localhost:8080/",
          "height": 68
        }
      },
      "source": [
        "a=123\n",
        "b=123.456\n",
        "print(a)\n",
        "print(\"b=\",b)\n",
        "print(a,b,end=\".\")"
      ],
      "execution_count": 0,
      "outputs": [
        {
          "output_type": "stream",
          "text": [
            "123\n",
            "b= 123.456\n",
            "123 123.456."
          ],
          "name": "stdout"
        }
      ]
    },
    {
      "cell_type": "code",
      "metadata": {
        "id": "aphTexrtYtyY",
        "colab_type": "code",
        "outputId": "30f9d69d-9b7d-435d-8be4-fd4b408bf920",
        "colab": {
          "base_uri": "https://localhost:8080/",
          "height": 85
        }
      },
      "source": [
        "print(\"city\")\n",
        "print(\"city \\n free\")\n",
        "print(\"city \\t free\")"
      ],
      "execution_count": 0,
      "outputs": [
        {
          "output_type": "stream",
          "text": [
            "city\n",
            "city \n",
            " free\n",
            "city \t free\n"
          ],
          "name": "stdout"
        }
      ]
    },
    {
      "cell_type": "code",
      "metadata": {
        "id": "u3QBa-byZRE9",
        "colab_type": "code",
        "outputId": "9c88e1d3-db93-4186-f1e1-a795899e2afb",
        "colab": {
          "base_uri": "https://localhost:8080/",
          "height": 51
        }
      },
      "source": [
        "s=input()\n",
        "s"
      ],
      "execution_count": 0,
      "outputs": [
        {
          "output_type": "stream",
          "text": [
            "hi\n"
          ],
          "name": "stdout"
        },
        {
          "output_type": "execute_result",
          "data": {
            "text/plain": [
              "'hi'"
            ]
          },
          "metadata": {
            "tags": []
          },
          "execution_count": 24
        }
      ]
    },
    {
      "cell_type": "code",
      "metadata": {
        "id": "Z3s_I0dpZfv3",
        "colab_type": "code",
        "outputId": "573b691f-3337-42ca-b17a-0566195ab21d",
        "colab": {
          "base_uri": "https://localhost:8080/",
          "height": 51
        }
      },
      "source": [
        "s = input(\"Enter Your Name:\")\n",
        "s"
      ],
      "execution_count": 0,
      "outputs": [
        {
          "output_type": "stream",
          "text": [
            "Enter Your Name:city\n"
          ],
          "name": "stdout"
        },
        {
          "output_type": "execute_result",
          "data": {
            "text/plain": [
              "'city'"
            ]
          },
          "metadata": {
            "tags": []
          },
          "execution_count": 25
        }
      ]
    },
    {
      "cell_type": "code",
      "metadata": {
        "id": "lx2seHsSZ7Nh",
        "colab_type": "code",
        "outputId": "985c6f89-2536-4c70-ce24-3e4bdb4c38c0",
        "colab": {
          "base_uri": "https://localhost:8080/",
          "height": 51
        }
      },
      "source": [
        "s = input (\"Enter Your Name:\")\n",
        "print(\"Hi,\", s)"
      ],
      "execution_count": 0,
      "outputs": [
        {
          "output_type": "stream",
          "text": [
            "Enter Your Name:city\n",
            "Hi, city\n"
          ],
          "name": "stdout"
        }
      ]
    },
    {
      "cell_type": "code",
      "metadata": {
        "id": "xehGYzG5arXM",
        "colab_type": "code",
        "outputId": "c5bd2310-f86b-4976-b849-2149aa895da6",
        "colab": {
          "base_uri": "https://localhost:8080/",
          "height": 153
        }
      },
      "source": [
        "s = int(input(\"Enter Your Number:\"))\n",
        "print(100 + s)\n",
        "s = float(input(\"Enter Your Number:\"))\n",
        "print(100 + s)\n",
        "s = eval(input(\"Enter Your Number:\"))\n",
        "print(100 + s)\n",
        "s = eval(input(\"Enter Your Number:\"))\n",
        "print(100 + s)"
      ],
      "execution_count": 0,
      "outputs": [
        {
          "output_type": "stream",
          "text": [
            "Enter Your Number:123\n",
            "223\n",
            "Enter Your Number:123\n",
            "223.0\n",
            "Enter Your Number:123\n",
            "223\n",
            "Enter Your Number:123\n",
            "223\n"
          ],
          "name": "stdout"
        }
      ]
    },
    {
      "cell_type": "code",
      "metadata": {
        "id": "s5AOUE0IbhX1",
        "colab_type": "code",
        "outputId": "aff33d6a-8246-4632-d250-ce91a7093558",
        "colab": {
          "base_uri": "https://localhost:8080/",
          "height": 119
        }
      },
      "source": [
        "print (5<2)\n",
        "print (5<=2)\n",
        "print (5>2)\n",
        "print(5>=2)\n",
        "print(5!=2)\n",
        "print(5==2)"
      ],
      "execution_count": 0,
      "outputs": [
        {
          "output_type": "stream",
          "text": [
            "False\n",
            "False\n",
            "True\n",
            "True\n",
            "True\n",
            "False\n"
          ],
          "name": "stdout"
        }
      ]
    },
    {
      "cell_type": "code",
      "metadata": {
        "id": "pEWUfzVaRcvl",
        "colab_type": "code",
        "outputId": "9f25c701-5c4e-4b22-88aa-fa6a37cc4cbc",
        "colab": {
          "base_uri": "https://localhost:8080/",
          "height": 68
        }
      },
      "source": [
        "X = 70\n",
        "print((X>60) and (X<80))\n",
        "print((X>60) or (X<80))\n",
        "print(not(X>60))"
      ],
      "execution_count": 0,
      "outputs": [
        {
          "output_type": "stream",
          "text": [
            "True\n",
            "True\n",
            "False\n"
          ],
          "name": "stdout"
        }
      ]
    },
    {
      "cell_type": "code",
      "metadata": {
        "id": "DWu01HsPRmt4",
        "colab_type": "code",
        "outputId": "7118f3ae-bd1a-491c-976c-12e389d37d09",
        "colab": {
          "base_uri": "https://localhost:8080/",
          "height": 102
        }
      },
      "source": [
        "x = 1\n",
        "y = [1,2,3]\n",
        "print(x in y)\n",
        "print( x not in y)\n",
        "x = [1,2,3]\n",
        "y = [1,2,3]\n",
        "print(id(x), id(y))\n",
        "print(x is y)\n",
        "print(x is not y)"
      ],
      "execution_count": 0,
      "outputs": [
        {
          "output_type": "stream",
          "text": [
            "True\n",
            "False\n",
            "139971702092040 139971702091976\n",
            "False\n",
            "True\n"
          ],
          "name": "stdout"
        }
      ]
    },
    {
      "cell_type": "code",
      "metadata": {
        "id": "JHYoGjlNR-F8",
        "colab_type": "code",
        "outputId": "51eed604-ccef-40ba-e955-581b6ca6bbd6",
        "colab": {
          "base_uri": "https://localhost:8080/",
          "height": 136
        }
      },
      "source": [
        "print(5 + 2) \n",
        "print(5 - 2) \n",
        "print(5 * 2) \n",
        "print(5 / 2) \n",
        "print(5 // 2) \n",
        "print(5 % 2) \n",
        "print(5 ** 2)"
      ],
      "execution_count": 0,
      "outputs": [
        {
          "output_type": "stream",
          "text": [
            "7\n",
            "3\n",
            "10\n",
            "2.5\n",
            "2\n",
            "1\n",
            "25\n"
          ],
          "name": "stdout"
        }
      ]
    },
    {
      "cell_type": "code",
      "metadata": {
        "id": "GhSugv-DSJWj",
        "colab_type": "code",
        "outputId": "1171788e-4567-4d6f-b7d4-2e2dbd1d92f8",
        "colab": {
          "base_uri": "https://localhost:8080/",
          "height": 153
        }
      },
      "source": [
        "a = 5\n",
        "a = a + 2\n",
        "print(a)\n",
        "a+=2\n",
        "print(a)\n",
        "a-=2\n",
        "print(a)\n",
        "a*=2\n",
        "print(a)\n",
        "a/=2\n",
        "print(a)\n",
        "a//=2\n",
        "print(a)\n",
        "a%=2\n",
        "print(a)\n",
        "a**=2\n",
        "print(a)"
      ],
      "execution_count": 0,
      "outputs": [
        {
          "output_type": "stream",
          "text": [
            "7\n",
            "9\n",
            "7\n",
            "14\n",
            "7.0\n",
            "3.0\n",
            "1.0\n",
            "1.0\n"
          ],
          "name": "stdout"
        }
      ]
    },
    {
      "cell_type": "code",
      "metadata": {
        "id": "bJPVZS6WSec0",
        "colab_type": "code",
        "outputId": "ddf16921-3022-43d7-b157-878797d9e12e",
        "colab": {
          "base_uri": "https://localhost:8080/",
          "height": 102
        }
      },
      "source": [
        "s1 =\"123\"\n",
        "s2 = \"456\"\n",
        "s3 = s1+s2\n",
        "print(s3)\n",
        "s4 = s1*2\n",
        "print(s4)\n",
        "\n",
        "s5 = '春眠不覺曉,處處聞啼鳥。\\n\\\n",
        "夜來風雨聲,花落知多少。\\n\\\n",
        "\\t作者\"孟浩然\" 詩名\"春曉\"'\n",
        "print(s5)"
      ],
      "execution_count": 0,
      "outputs": [
        {
          "output_type": "stream",
          "text": [
            "123456\n",
            "123123\n",
            "春眠不覺曉,處處聞啼鳥。\n",
            "夜來風雨聲,花落知多少。\n",
            "\t作者\"孟浩然\" 詩名\"春曉\"\n"
          ],
          "name": "stdout"
        }
      ]
    },
    {
      "cell_type": "code",
      "metadata": {
        "id": "iP7XGyMoSlte",
        "colab_type": "code",
        "outputId": "79b84017-8dff-4840-f0e6-192bf093c49e",
        "colab": {
          "base_uri": "https://localhost:8080/",
          "height": 357
        }
      },
      "source": [
        "s = '123456789'\n",
        "print(s[0])\n",
        "print(s[1])\n",
        "print(s[-1])\n",
        "print(s[-2])\n",
        "s = '0123456789'\n",
        "print('s=', s)\n",
        "print('s[0]=', s[0])\n",
        "print('s[1]=', s[1])\n",
        "print('s[-1]=', s[-1])\n",
        "print('s[-2]=', s[-2])\n",
        "print('s=', s, 's[:]=', s[:])\n",
        "print('s=', s, 's[5:]=', s[5:])\n",
        "print('s=', s, 's[-2:]=', s[-2:])\n",
        "print('s=', s, 's[:5]=', s[:5])\n",
        "print('s=', s, 's[:-2]=', s[:-2])\n",
        "print('s=', s, 's[7:9]=', s[7:9])\n",
        "print('s=', s, 's[-4:-1]=', s[-4:-1])\n",
        "print('s=', s, 's[5:-2]=', s[5:-2])\n",
        "print('s=', s, 's[2:10:2]=', s[2:10:2])\n",
        "print('s=', s, 's[::-1]=', s[::-1])\n",
        "print('s=', s, 's[-1::-1]=', s[-1::-1])"
      ],
      "execution_count": 0,
      "outputs": [
        {
          "output_type": "stream",
          "text": [
            "1\n",
            "2\n",
            "9\n",
            "8\n",
            "s= 0123456789\n",
            "s[0]= 0\n",
            "s[1]= 1\n",
            "s[-1]= 9\n",
            "s[-2]= 8\n",
            "s= 0123456789 s[:]= 0123456789\n",
            "s= 0123456789 s[5:]= 56789\n",
            "s= 0123456789 s[-2:]= 89\n",
            "s= 0123456789 s[:5]= 01234\n",
            "s= 0123456789 s[:-2]= 01234567\n",
            "s= 0123456789 s[7:9]= 78\n",
            "s= 0123456789 s[-4:-1]= 678\n",
            "s= 0123456789 s[5:-2]= 567\n",
            "s= 0123456789 s[2:10:2]= 2468\n",
            "s= 0123456789 s[::-1]= 9876543210\n",
            "s= 0123456789 s[-1::-1]= 9876543210\n"
          ],
          "name": "stdout"
        }
      ]
    },
    {
      "cell_type": "code",
      "metadata": {
        "id": "UAqy3tLfSwfl",
        "colab_type": "code",
        "outputId": "60a7d3b6-9e06-4a7e-d37a-da8777899996",
        "colab": {
          "base_uri": "https://localhost:8080/",
          "height": 136
        }
      },
      "source": [
        "a = -2\n",
        "print(abs(a))\n",
        "print(abs(-10))\n",
        "print(max(1,2,3,4,5))\n",
        "print(min(1,2,3,4,5))\n",
        "print(pow(2,3))\n",
        "print(round(5.8))\n",
        "print(round(3.14159,2))"
      ],
      "execution_count": 0,
      "outputs": [
        {
          "output_type": "stream",
          "text": [
            "2\n",
            "10\n",
            "5\n",
            "1\n",
            "8\n",
            "6\n",
            "3.14\n"
          ],
          "name": "stdout"
        }
      ]
    },
    {
      "cell_type": "code",
      "metadata": {
        "id": "2bMhsigOS5oV",
        "colab_type": "code",
        "outputId": "4cf25268-9f9c-45be-b4a9-9ff2e06f44d3",
        "colab": {
          "base_uri": "https://localhost:8080/",
          "height": 68
        }
      },
      "source": [
        "s = '春眠不覺曉,處處聞啼鳥,夜來風雨聲,花落知多少。'\n",
        "print(len(s))\n",
        "s1='春眠不覺曉,處處聞啼鳥,夜來風雨聲,花落知多少。'\n",
        "list1=s1.split(',')\n",
        "print(list1)\n",
        "list1 = ['春眠不覺曉','處處聞啼鳥','夜來風雨聲','花落知多少。']\n",
        "s2=','.join(list1)\n",
        "print(s2)"
      ],
      "execution_count": 0,
      "outputs": [
        {
          "output_type": "stream",
          "text": [
            "24\n",
            "['春眠不覺曉', '處處聞啼鳥', '夜來風雨聲', '花落知多少。']\n",
            "春眠不覺曉,處處聞啼鳥,夜來風雨聲,花落知多少。\n"
          ],
          "name": "stdout"
        }
      ]
    },
    {
      "cell_type": "code",
      "metadata": {
        "id": "JEAsFmULTACl",
        "colab_type": "code",
        "outputId": "b0d2352e-0a8e-4e60-e10e-6b571024a833",
        "colab": {
          "base_uri": "https://localhost:8080/",
          "height": 153
        }
      },
      "source": [
        "s1='春眠不覺曉,處處聞啼鳥,夜來風雨聲,花落知多少。'\n",
        "s3=s1.replace('春','冬')\n",
        "print(s3)\n",
        "s1='春眠不覺曉,處處聞啼鳥,夜來風雨聲,花落知多少。'\n",
        "print(s1.find('花落'))\n",
        "print(s1.count('處'))\n",
        "s1='An apple a day.'\n",
        "print(s1.capitalize())\n",
        "print(s1.title())\n",
        "print(s1.swapcase())\n",
        "print(s1.upper())\n",
        "print(s1.lower())"
      ],
      "execution_count": 0,
      "outputs": [
        {
          "output_type": "stream",
          "text": [
            "冬眠不覺曉,處處聞啼鳥,夜來風雨聲,花落知多少。\n",
            "18\n",
            "2\n",
            "An apple a day.\n",
            "An Apple A Day.\n",
            "aN APPLE A DAY.\n",
            "AN APPLE A DAY.\n",
            "an apple a day.\n"
          ],
          "name": "stdout"
        }
      ]
    },
    {
      "cell_type": "code",
      "metadata": {
        "id": "aIaa6FPBTEAV",
        "colab_type": "code",
        "outputId": "052d7d33-8ba2-445d-99be-0c0bd8dc4cce",
        "colab": {
          "base_uri": "https://localhost:8080/",
          "height": 170
        }
      },
      "source": [
        "s1='春眠不覺曉,處處聞啼鳥,夜來風雨聲,花落知多少。'\n",
        "print(s1.startswith('春眠'))\n",
        "print(s1.endswith('多少。'))\n",
        "s1='春眠不覺曉'\n",
        "print(s1.center(10))\n",
        "print(s1.rjust(10))\n",
        "print(s1.ljust(10))\n",
        "s1='123'\n",
        "print(s1.zfill(5))\n",
        "s1=' Hello,Mary. '\n",
        "print(s1.strip())\n",
        "print(s1.lstrip(' H'))\n",
        "print(s1.rstrip(' .'))"
      ],
      "execution_count": 0,
      "outputs": [
        {
          "output_type": "stream",
          "text": [
            "True\n",
            "True\n",
            "  春眠不覺曉   \n",
            "     春眠不覺曉\n",
            "春眠不覺曉     \n",
            "00123\n",
            "Hello,Mary.\n",
            "ello,Mary. \n",
            " Hello,Mary\n"
          ],
          "name": "stdout"
        }
      ]
    },
    {
      "cell_type": "markdown",
      "metadata": {
        "id": "nPB8cEE5RUaI",
        "colab_type": "text"
      },
      "source": [
        ""
      ]
    }
  ]
}